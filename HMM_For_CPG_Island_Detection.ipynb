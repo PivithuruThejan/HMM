{
 "cells": [
  {
   "cell_type": "code",
   "execution_count": 4,
   "metadata": {},
   "outputs": [
    {
     "name": "stderr",
     "output_type": "stream",
     "text": [
      "C:\\Users\\User\\Anaconda3\\lib\\site-packages\\hmmlearn\\hmm.py:412: RuntimeWarning: divide by zero encountered in log\n",
      "  return np.log(self.emissionprob_)[:, np.concatenate(X)].T\n"
     ]
    }
   ],
   "source": [
    "from hmmlearn import hmm\n",
    "import numpy as np\n",
    "import math\n",
    "\n",
    "model = hmm.MultinomialHMM(n_components=9)\n",
    "model.startprob_ = np.array([ 0, 0.0725193, 0.163763, 0.1788242, 0.0754545, 0.1322050, 0.1267006, 0.1226380, 0.1278950])\n",
    "# initail probabilities\n",
    "\n",
    "model.transmat_ = np.array([\n",
    "    [0, 0.0725193, 0.163763, 0.1788242, 0.0754545, 0.1322050, 0.1267006, 0.1226380, 0.1278950],\n",
    "    [0.001, 0.1762237, 0.2682517, 0.4170629, 0.1174825, 0.0035964, 0.0054745, 0.0085104, 0.0023976],\n",
    "    [0.001, 0.1672435, 0.3599201, 0.267984, 0.1838722, 0.0034131, 0.0073453, 0.005469, 0.0037524],\n",
    "    [0.001, 0.1576223, 0.3318881, 0.3671328, 0.1223776, 0.0032167, 0.0067732, 0.0074915, 0.0024975],\n",
    "    [0.001, 0.0773426, 0.3475514, 0.375944, 0.1781818, 0.0015784, 0.0070929, 0.0076723, 0.0036363],\n",
    "    [0.001, 0.0002997, 0.0002047, 0.0002837, 0.0002097, 0.2994005, 0.2045904, 0.2844305, 0.2095804],\n",
    "    [0.001, 0.0003216, 0.0002977, 0.0000769, 0.0003016, 0.3213566, 0.2974045, 0.0778441, 0.3013966],\n",
    "    [0.001, 0.0001768, 0.000238, 0.0002917, 0.0002917, 0.1766463, 0.2385224, 0.2914165, 0.2914155],\n",
    "    [0.001, 0.0002477, 0.0002457, 0.0002977, 0.0002077, 0.2475044, 0.2455084, 0.2974035, 0.2075844]\n",
    "]) # transition probabilities\n",
    "\n",
    "model.n_features = 4\n",
    "model.emissionprob_ = np.array([\n",
    "    [0, 0, 0, 0],\n",
    "    [1, 0, 0, 0],\n",
    "    [0, 1, 0, 0],\n",
    "    [0, 0, 1, 0],\n",
    "    [0, 0, 0, 1],\n",
    "    [1, 0, 0, 0],\n",
    "    [0, 1, 0, 0],\n",
    "    [0, 0, 1, 0],\n",
    "    [0, 0, 0, 1]\n",
    "]) # emission probabilities\n",
    "\n",
    "file = open(\"input\",\"r\")\n",
    "data = file.read()\n",
    "size = len(data)\n",
    "input = []\n",
    "for x in range(size):\n",
    "    index = 0\n",
    "    if (data[x].lower() == 'a'):\n",
    "        index = 0\n",
    "        \n",
    "    elif (data[x].lower() == 'c'):\n",
    "        index = 1\n",
    "    elif (data[x].lower() == 'g'):\n",
    "        index = 2\n",
    "    elif (data[x].lower() == 't'):\n",
    "        index = 3\n",
    "    input.append(index)\n",
    "    \n",
    "input = np.array([input]).transpose()\n",
    "logprob, seq = model.decode(input)\n",
    "output = \"\"\n",
    "for x in range(len(seq)):\n",
    "    if (0 < seq[x] and seq[x] < 5):\n",
    "        output = output + \"+\"\n",
    "    else:\n",
    "        output = output + \"-\"\n",
    "file= open(\"output.txt\",\"w+\")\n",
    "file.write(output)\n",
    "file.close()"
   ]
  },
  {
   "cell_type": "code",
   "execution_count": null,
   "metadata": {},
   "outputs": [],
   "source": []
  }
 ],
 "metadata": {
  "kernelspec": {
   "display_name": "Python 3",
   "language": "python",
   "name": "python3"
  },
  "language_info": {
   "codemirror_mode": {
    "name": "ipython",
    "version": 3
   },
   "file_extension": ".py",
   "mimetype": "text/x-python",
   "name": "python",
   "nbconvert_exporter": "python",
   "pygments_lexer": "ipython3",
   "version": "3.6.6"
  }
 },
 "nbformat": 4,
 "nbformat_minor": 2
}
