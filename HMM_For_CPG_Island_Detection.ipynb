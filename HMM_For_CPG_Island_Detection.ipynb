{
 "cells": [
  {
   "cell_type": "code",
   "execution_count": 1,
   "metadata": {},
   "outputs": [],
   "source": [
    "from hmmlearn import hmm\n",
    "import numpy as np\n",
    "import math"
   ]
  },
  {
   "cell_type": "code",
   "execution_count": 2,
   "metadata": {},
   "outputs": [],
   "source": [
    "#tates = ('0', 'A+', 'C+', 'G+', 'T+', 'A-', 'C-', 'G-', 'T-')\n",
    "#bservations = ('a', 'c', 'g', 't')\n",
    "#tart_probability = {'0' : 0, 'A+' : 0.0725193, 'C+' : 0.163763, 'G+' : 0.1788242, 'T+' : 0.0754545, 'A-' : 0.1322050, 'C-' : 0.1267006, 'G-' : 0.1226380, 'T-' : 0.1278950}\n",
    "#ransition_probability = {\n",
    "#0' :{'0' : 0, 'A+' : 0.0725193, 'C+' : 0.163763, 'G+' : 0.1788242, 'T+' : 0.0754545, 'A-' : 0.1322050, 'C-' : 0.1267006, 'G-' : 0.1226380, 'T-' : 0.1278950},\n",
    "#A+' : {'0' : 0.001, 'A+' : 0.1762237, 'C+' : 0.2682517, 'G+' : 0.4170629, 'T+' : 0.1174825, 'A-' : 0.0035964, 'C-' : 0.0054745, 'G-' : 0.0085104, 'T-' : 0.0023976},\n",
    "#C+' : {'0' : 0.001, 'A+' : 0.1672435, 'C+' : 0.3599201, 'G+' : 0.267984, 'T+' : 0.1838722, 'A-' : 0.0034131, 'C-' : 0.0073453, 'G-' : 0.005469, 'T-' : 0.0037524},\n",
    "#G+' : {'0' : 0.001, 'A+' : 0.1576223, 'C+' : 0.3318881, 'G+' : 0.3671328, 'T+' : 0.1223776, 'A-' : 0.0032167, 'C-' : 0.0067732, 'G-' : 0.0074915, 'T-' : 0.0024975},\n",
    "#T+' : {'0' : 0.001, 'A+' : 0.0773426, 'C+' : 0.3475514, 'G+' : 0.375944, 'T+' : 0.1781818, 'A-' : 0.0015784, 'C-' : 0.0070929, 'G-' : 0.0076723, 'T-' : 0.0036363},\n",
    "#A-' : {'0' : 0.001, 'A+' : 0.0002997, 'C+' : 0.0002047, 'G+' : 0.0002837, 'T+' : 0.0002097, 'A-' : 0.2994005, 'C-' : 0.2045904, 'G-' : 0.2844305, 'T-' : 0.2095804},\n",
    "#C-' : {'0' : 0.001, 'A+' : 0.0003216, 'C+' : 0.0002977, 'G+' : 0.0000769, 'T+' : 0.0003016, 'A-' : 0.3213566, 'C-' : 0.2974045, 'G-' : 0.0778441, 'T-' : 0.3013966},\n",
    "#G-' : {'0' : 0.001, 'A+' : 0.0001768, 'C+' : 0.000238, 'G+' : 0.0002917, 'T+' : 0.0002917, 'A-' : 0.1766463, 'C-' : 0.2385224, 'G-' : 0.2914165, 'T-' : 0.2914155},\n",
    "#T-' : {'0' : 0.001, 'A+' : 0.0002477, 'C+' : 0.0002457, 'G+' : 0.0002977, 'T+' : 0.0002077, 'A-' : 0.2475044, 'C-' : 0.2455084, 'G-' : 0.2974035, 'T-' : 0.2075844},\n",
    "#    "
   ]
  },
  {
   "cell_type": "code",
   "execution_count": 3,
   "metadata": {
    "scrolled": true
   },
   "outputs": [],
   "source": [
    "model = hmm.MultinomialHMM(n_components=9)\n",
    "model.startprob_ = np.array([ 0, 0.0725193, 0.163763, 0.1788242, 0.0754545, 0.1322050, 0.1267006, 0.1226380, 0.1278950])\n",
    "\n",
    "model.transmat_ = np.array([\n",
    "    [0, 0.0725193, 0.163763, 0.1788242, 0.0754545, 0.1322050, 0.1267006, 0.1226380, 0.1278950],\n",
    "    [0.001, 0.1762237, 0.2682517, 0.4170629, 0.1174825, 0.0035964, 0.0054745, 0.0085104, 0.0023976],\n",
    "    [0.001, 0.1672435, 0.3599201, 0.267984, 0.1838722, 0.0034131, 0.0073453, 0.005469, 0.0037524],\n",
    "    [0.001, 0.1576223, 0.3318881, 0.3671328, 0.1223776, 0.0032167, 0.0067732, 0.0074915, 0.0024975],\n",
    "    [0.001, 0.0773426, 0.3475514, 0.375944, 0.1781818, 0.0015784, 0.0070929, 0.0076723, 0.0036363],\n",
    "    [0.001, 0.0002997, 0.0002047, 0.0002837, 0.0002097, 0.2994005, 0.2045904, 0.2844305, 0.2095804],\n",
    "    [0.001, 0.0003216, 0.0002977, 0.0000769, 0.0003016, 0.3213566, 0.2974045, 0.0778441, 0.3013966],\n",
    "    [0.001, 0.0001768, 0.000238, 0.0002917, 0.0002917, 0.1766463, 0.2385224, 0.2914165, 0.2914155],\n",
    "    [0.001, 0.0002477, 0.0002457, 0.0002977, 0.0002077, 0.2475044, 0.2455084, 0.2974035, 0.2075844]\n",
    "])\n",
    "\n",
    "model.n_features = 4\n",
    "model.emissionprob_ = np.array([\n",
    "    [0, 0, 0, 0],\n",
    "    [1, 0, 0, 0],\n",
    "    [0, 1, 0, 0],\n",
    "    [0, 0, 1, 0],\n",
    "    [0, 0, 0, 1],\n",
    "    [1, 0, 0, 0],\n",
    "    [0, 1, 0, 0],\n",
    "    [0, 0, 1, 0],\n",
    "    [0, 0, 0, 1]\n",
    "])"
   ]
  },
  {
   "cell_type": "code",
   "execution_count": 4,
   "metadata": {
    "scrolled": true
   },
   "outputs": [
    {
     "data": {
      "text/plain": [
       "[0, 1, 2, 3, 3, 3, 0, 1]"
      ]
     },
     "execution_count": 4,
     "metadata": {},
     "output_type": "execute_result"
    }
   ],
   "source": [
    "file = open(\"input\",\"r\")\n",
    "data = file.read()\n",
    "size = len(data)\n",
    "input = []\n",
    "for x in range(size):\n",
    "    index = 0\n",
    "    if (data[x] == 'a'):\n",
    "        index = 0\n",
    "        \n",
    "    elif (data[x] == 'c'):\n",
    "        index = 1\n",
    "    elif (data[x] == 'g'):\n",
    "        index = 2\n",
    "    elif (data[x] == 't'):\n",
    "        index = 3\n",
    "    input.append(index)\n",
    "input"
   ]
  },
  {
   "cell_type": "code",
   "execution_count": 5,
   "metadata": {},
   "outputs": [
    {
     "data": {
      "text/plain": [
       "array([[0],\n",
       "       [1],\n",
       "       [2],\n",
       "       [3],\n",
       "       [3],\n",
       "       [3],\n",
       "       [0],\n",
       "       [1]])"
      ]
     },
     "execution_count": 5,
     "metadata": {},
     "output_type": "execute_result"
    }
   ],
   "source": [
    "input = np.array([input]).transpose()\n",
    "input"
   ]
  },
  {
   "cell_type": "code",
   "execution_count": 6,
   "metadata": {
    "scrolled": true
   },
   "outputs": [
    {
     "name": "stdout",
     "output_type": "stream",
     "text": [
      "1.3388412452483041e-06\n",
      "[5 6 7 8 8 8 5 6]\n"
     ]
    },
    {
     "name": "stderr",
     "output_type": "stream",
     "text": [
      "C:\\Users\\User\\Anaconda3\\lib\\site-packages\\hmmlearn\\hmm.py:412: RuntimeWarning: divide by zero encountered in log\n",
      "  return np.log(self.emissionprob_)[:, np.concatenate(X)].T\n"
     ]
    }
   ],
   "source": [
    "logprob, seq = model.decode(input)\n",
    "print(math.exp(logprob))\n",
    "print(seq)"
   ]
  },
  {
   "cell_type": "code",
   "execution_count": 8,
   "metadata": {},
   "outputs": [
    {
     "name": "stdout",
     "output_type": "stream",
     "text": [
      "--------\n"
     ]
    }
   ],
   "source": [
    "output = \"\"\n",
    "for x in range(len(seq)):\n",
    "    if (0 < seq[x] and seq[x] < 5):\n",
    "        output = output + \"+\"\n",
    "    else:\n",
    "        output = output + \"-\"\n",
    "\n",
    "print(output)"
   ]
  },
  {
   "cell_type": "code",
   "execution_count": 9,
   "metadata": {},
   "outputs": [],
   "source": [
    "file= open(\"output.txt\",\"w+\")\n",
    "file.write(output)\n",
    "file.close()"
   ]
  },
  {
   "cell_type": "code",
   "execution_count": null,
   "metadata": {},
   "outputs": [],
   "source": []
  }
 ],
 "metadata": {
  "kernelspec": {
   "display_name": "Python 3",
   "language": "python",
   "name": "python3"
  },
  "language_info": {
   "codemirror_mode": {
    "name": "ipython",
    "version": 3
   },
   "file_extension": ".py",
   "mimetype": "text/x-python",
   "name": "python",
   "nbconvert_exporter": "python",
   "pygments_lexer": "ipython3",
   "version": "3.6.6"
  }
 },
 "nbformat": 4,
 "nbformat_minor": 2
}
